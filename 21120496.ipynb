{
  "nbformat": 4,
  "nbformat_minor": 0,
  "metadata": {
    "colab": {
      "provenance": [],
      "gpuType": "T4",
      "include_colab_link": true
    },
    "kernelspec": {
      "name": "python3",
      "display_name": "Python 3"
    },
    "language_info": {
      "name": "python"
    },
    "accelerator": "GPU"
  },
  "cells": [
    {
      "cell_type": "markdown",
      "metadata": {
        "id": "view-in-github",
        "colab_type": "text"
      },
      "source": [
        "<a href=\"https://colab.research.google.com/github/ChuLinh02/DeepLearning/blob/main/21120496.ipynb\" target=\"_parent\"><img src=\"https://colab.research.google.com/assets/colab-badge.svg\" alt=\"Open In Colab\"/></a>"
      ]
    },
    {
      "cell_type": "markdown",
      "source": [
        "# **Multi-channel LSTM-CNN Model for Text Classification**\n",
        "\n",
        "**Name**: Chu Hải Linh\n",
        "\n",
        "**MSSV**: 21120496\n",
        "\n",
        "**Class**: Deep Learning - CQ2021/24"
      ],
      "metadata": {
        "id": "pdDj6FmyewA1"
      }
    },
    {
      "cell_type": "markdown",
      "source": [
        "### **Import necessary Libraries**\n",
        "\n",
        "I will use **TensorFlow** for model creation and preprocessing, and **scikit-learn** for evaluation."
      ],
      "metadata": {
        "id": "iLkuOJTne6dn"
      }
    },
    {
      "cell_type": "code",
      "execution_count": 1,
      "metadata": {
        "id": "YxRnD6FGNusy"
      },
      "outputs": [],
      "source": [
        "# import necessary libraries\n",
        "import tensorflow as tf\n",
        "from tensorflow.keras.layers import Input, Embedding, LSTM, Conv1D, MaxPooling1D, Flatten, Dense, Concatenate, Dropout\n",
        "from tensorflow.keras.models import Model\n",
        "from tensorflow.keras.preprocessing.text import Tokenizer\n",
        "from tensorflow.keras.preprocessing.sequence import pad_sequences\n",
        "from sklearn.model_selection import train_test_split\n",
        "from sklearn.metrics import classification_report\n",
        "from tensorflow.keras.callbacks import EarlyStopping, ModelCheckpoint"
      ]
    },
    {
      "cell_type": "markdown",
      "source": [
        "## **Step 1: Load Dataset**\n",
        "\n",
        "I use the **IMDb dataset**, which contains 25,000 movie reviews labeled as positive or negative.\n",
        "\n",
        "This dataset is pre-tokenized and can be loaded directly using TensorFlow."
      ],
      "metadata": {
        "id": "cGJrm9pTOnKm"
      }
    },
    {
      "cell_type": "code",
      "source": [
        "from tensorflow.keras.datasets import imdb\n",
        "\n",
        "print(\"Loading data...\")\n",
        "(x_train, y_train), (x_test, y_test) = imdb.load_data(num_words=10000)\n",
        "\n",
        "# Print dataset info\n",
        "print(\"Number of training samples:\", len(x_train))\n",
        "print(\"Number of testing samples:\", len(x_test))"
      ],
      "metadata": {
        "colab": {
          "base_uri": "https://localhost:8080/"
        },
        "id": "FZt4D05iOi7f",
        "outputId": "b63756a6-2d1c-4740-9519-bb361603c4ee"
      },
      "execution_count": 2,
      "outputs": [
        {
          "output_type": "stream",
          "name": "stdout",
          "text": [
            "Loading data...\n",
            "Number of training samples: 25000\n",
            "Number of testing samples: 25000\n"
          ]
        }
      ]
    },
    {
      "cell_type": "markdown",
      "source": [
        "## **Step 2: Preprocess the Data**\n",
        "\n",
        "To prepare the dataset for the model, I:\n",
        "\n",
        "* Pad sequences to ensure uniform length.\n",
        "\n",
        "* Define a maximum sequence length (`maxlen`)\n"
      ],
      "metadata": {
        "id": "L7ylKP11O6H3"
      }
    },
    {
      "cell_type": "code",
      "source": [
        "print(\"Preprocessing data...\")\n",
        "\n",
        "# Define a maximum sequence length\n",
        "maxlen = 200\n",
        "\n",
        "# Pad sequences\n",
        "x_train = pad_sequences(x_train, maxlen=maxlen)\n",
        "x_test = pad_sequences(x_test, maxlen=maxlen)\n",
        "\n",
        "# Split the training set into training and validation sets\n",
        "x_train, x_val, y_train, y_val = train_test_split(x_train, y_train, test_size=0.2, random_state=42)\n",
        "\n",
        "# Check the sizes of the new splits\n",
        "print(f\"Training set size: {len(x_train)}\")\n",
        "print(f\"Validation set size: {len(x_val)}\")\n",
        "print(f\"Testing set size: {len(x_test)}\")"
      ],
      "metadata": {
        "colab": {
          "base_uri": "https://localhost:8080/"
        },
        "id": "fkgADALQO-D-",
        "outputId": "654fea11-f548-44db-ef53-5f7cfd5a3437"
      },
      "execution_count": 3,
      "outputs": [
        {
          "output_type": "stream",
          "name": "stdout",
          "text": [
            "Preprocessing data...\n",
            "Training set size: 20000\n",
            "Validation set size: 5000\n",
            "Testing set size: 25000\n"
          ]
        }
      ]
    },
    {
      "cell_type": "markdown",
      "source": [
        "## **Step 3: Build the Multi-channel LSTM-CNN Model**\n",
        "\n",
        "I create two branches:\n",
        "\n",
        "* **LSTM Branch**: for capturing sequential dependencies.\n",
        "\n",
        "* **CNN Branch**: for capturing local patterns (n-grams).\n",
        "\n",
        "These are combined using a `Concatenate` layer, followed by full connected layers for classification."
      ],
      "metadata": {
        "id": "zlWZE8E8PDNF"
      }
    },
    {
      "cell_type": "code",
      "source": [
        "print(\"Building model...\")\n",
        "\n",
        "# Input layer\n",
        "input_layer = Input(shape=(maxlen,))\n",
        "\n",
        "# Embedding layer\n",
        "embedding_layer = Embedding(input_dim=10000, output_dim=128, input_length=maxlen)(input_layer)\n",
        "\n",
        "# LSTM branch\n",
        "lstm_output= LSTM(128)(embedding_layer)\n",
        "\n",
        "# CNN branch\n",
        "conv_output = Conv1D(filters=128, kernel_size=3, activation='relu')(embedding_layer)\n",
        "conv_output = MaxPooling1D(pool_size=2)(conv_output)\n",
        "conv_output = Flatten()(conv_output)\n",
        "\n",
        "# Concatenate LSTM and CNN features\n",
        "merged = Concatenate()([lstm_output, conv_output])\n",
        "dropout = Dropout(0.7)(merged)\n",
        "dense = Dense(64, activation='relu')(dropout)\n",
        "output_layer = Dense(1, activation='sigmoid')(dense)\n",
        "\n",
        "model = Model(inputs=input_layer, outputs=output_layer)\n",
        "model.summary()"
      ],
      "metadata": {
        "colab": {
          "base_uri": "https://localhost:8080/",
          "height": 536
        },
        "id": "uMK03Wb4PGg1",
        "outputId": "1a5f3164-b72c-42b2-d7f9-f4e130c78797"
      },
      "execution_count": 4,
      "outputs": [
        {
          "output_type": "stream",
          "name": "stdout",
          "text": [
            "Building model...\n"
          ]
        },
        {
          "output_type": "stream",
          "name": "stderr",
          "text": [
            "/usr/local/lib/python3.10/dist-packages/keras/src/layers/core/embedding.py:90: UserWarning: Argument `input_length` is deprecated. Just remove it.\n",
            "  warnings.warn(\n"
          ]
        },
        {
          "output_type": "display_data",
          "data": {
            "text/plain": [
              "\u001b[1mModel: \"functional\"\u001b[0m\n"
            ],
            "text/html": [
              "<pre style=\"white-space:pre;overflow-x:auto;line-height:normal;font-family:Menlo,'DejaVu Sans Mono',consolas,'Courier New',monospace\"><span style=\"font-weight: bold\">Model: \"functional\"</span>\n",
              "</pre>\n"
            ]
          },
          "metadata": {}
        },
        {
          "output_type": "display_data",
          "data": {
            "text/plain": [
              "┏━━━━━━━━━━━━━━━━━━━━━━━━━━━┳━━━━━━━━━━━━━━━━━━━━━━━━┳━━━━━━━━━━━━━━━━┳━━━━━━━━━━━━━━━━━━━━━━━━┓\n",
              "┃\u001b[1m \u001b[0m\u001b[1mLayer (type)             \u001b[0m\u001b[1m \u001b[0m┃\u001b[1m \u001b[0m\u001b[1mOutput Shape          \u001b[0m\u001b[1m \u001b[0m┃\u001b[1m \u001b[0m\u001b[1m       Param #\u001b[0m\u001b[1m \u001b[0m┃\u001b[1m \u001b[0m\u001b[1mConnected to          \u001b[0m\u001b[1m \u001b[0m┃\n",
              "┡━━━━━━━━━━━━━━━━━━━━━━━━━━━╇━━━━━━━━━━━━━━━━━━━━━━━━╇━━━━━━━━━━━━━━━━╇━━━━━━━━━━━━━━━━━━━━━━━━┩\n",
              "│ input_layer (\u001b[38;5;33mInputLayer\u001b[0m)  │ (\u001b[38;5;45mNone\u001b[0m, \u001b[38;5;34m200\u001b[0m)            │              \u001b[38;5;34m0\u001b[0m │ -                      │\n",
              "├───────────────────────────┼────────────────────────┼────────────────┼────────────────────────┤\n",
              "│ embedding (\u001b[38;5;33mEmbedding\u001b[0m)     │ (\u001b[38;5;45mNone\u001b[0m, \u001b[38;5;34m200\u001b[0m, \u001b[38;5;34m128\u001b[0m)       │      \u001b[38;5;34m1,280,000\u001b[0m │ input_layer[\u001b[38;5;34m0\u001b[0m][\u001b[38;5;34m0\u001b[0m]      │\n",
              "├───────────────────────────┼────────────────────────┼────────────────┼────────────────────────┤\n",
              "│ conv1d (\u001b[38;5;33mConv1D\u001b[0m)           │ (\u001b[38;5;45mNone\u001b[0m, \u001b[38;5;34m198\u001b[0m, \u001b[38;5;34m128\u001b[0m)       │         \u001b[38;5;34m49,280\u001b[0m │ embedding[\u001b[38;5;34m0\u001b[0m][\u001b[38;5;34m0\u001b[0m]        │\n",
              "├───────────────────────────┼────────────────────────┼────────────────┼────────────────────────┤\n",
              "│ max_pooling1d             │ (\u001b[38;5;45mNone\u001b[0m, \u001b[38;5;34m99\u001b[0m, \u001b[38;5;34m128\u001b[0m)        │              \u001b[38;5;34m0\u001b[0m │ conv1d[\u001b[38;5;34m0\u001b[0m][\u001b[38;5;34m0\u001b[0m]           │\n",
              "│ (\u001b[38;5;33mMaxPooling1D\u001b[0m)            │                        │                │                        │\n",
              "├───────────────────────────┼────────────────────────┼────────────────┼────────────────────────┤\n",
              "│ lstm (\u001b[38;5;33mLSTM\u001b[0m)               │ (\u001b[38;5;45mNone\u001b[0m, \u001b[38;5;34m128\u001b[0m)            │        \u001b[38;5;34m131,584\u001b[0m │ embedding[\u001b[38;5;34m0\u001b[0m][\u001b[38;5;34m0\u001b[0m]        │\n",
              "├───────────────────────────┼────────────────────────┼────────────────┼────────────────────────┤\n",
              "│ flatten (\u001b[38;5;33mFlatten\u001b[0m)         │ (\u001b[38;5;45mNone\u001b[0m, \u001b[38;5;34m12672\u001b[0m)          │              \u001b[38;5;34m0\u001b[0m │ max_pooling1d[\u001b[38;5;34m0\u001b[0m][\u001b[38;5;34m0\u001b[0m]    │\n",
              "├───────────────────────────┼────────────────────────┼────────────────┼────────────────────────┤\n",
              "│ concatenate (\u001b[38;5;33mConcatenate\u001b[0m) │ (\u001b[38;5;45mNone\u001b[0m, \u001b[38;5;34m12800\u001b[0m)          │              \u001b[38;5;34m0\u001b[0m │ lstm[\u001b[38;5;34m0\u001b[0m][\u001b[38;5;34m0\u001b[0m],            │\n",
              "│                           │                        │                │ flatten[\u001b[38;5;34m0\u001b[0m][\u001b[38;5;34m0\u001b[0m]          │\n",
              "├───────────────────────────┼────────────────────────┼────────────────┼────────────────────────┤\n",
              "│ dropout (\u001b[38;5;33mDropout\u001b[0m)         │ (\u001b[38;5;45mNone\u001b[0m, \u001b[38;5;34m12800\u001b[0m)          │              \u001b[38;5;34m0\u001b[0m │ concatenate[\u001b[38;5;34m0\u001b[0m][\u001b[38;5;34m0\u001b[0m]      │\n",
              "├───────────────────────────┼────────────────────────┼────────────────┼────────────────────────┤\n",
              "│ dense (\u001b[38;5;33mDense\u001b[0m)             │ (\u001b[38;5;45mNone\u001b[0m, \u001b[38;5;34m64\u001b[0m)             │        \u001b[38;5;34m819,264\u001b[0m │ dropout[\u001b[38;5;34m0\u001b[0m][\u001b[38;5;34m0\u001b[0m]          │\n",
              "├───────────────────────────┼────────────────────────┼────────────────┼────────────────────────┤\n",
              "│ dense_1 (\u001b[38;5;33mDense\u001b[0m)           │ (\u001b[38;5;45mNone\u001b[0m, \u001b[38;5;34m1\u001b[0m)              │             \u001b[38;5;34m65\u001b[0m │ dense[\u001b[38;5;34m0\u001b[0m][\u001b[38;5;34m0\u001b[0m]            │\n",
              "└───────────────────────────┴────────────────────────┴────────────────┴────────────────────────┘\n"
            ],
            "text/html": [
              "<pre style=\"white-space:pre;overflow-x:auto;line-height:normal;font-family:Menlo,'DejaVu Sans Mono',consolas,'Courier New',monospace\">┏━━━━━━━━━━━━━━━━━━━━━━━━━━━┳━━━━━━━━━━━━━━━━━━━━━━━━┳━━━━━━━━━━━━━━━━┳━━━━━━━━━━━━━━━━━━━━━━━━┓\n",
              "┃<span style=\"font-weight: bold\"> Layer (type)              </span>┃<span style=\"font-weight: bold\"> Output Shape           </span>┃<span style=\"font-weight: bold\">        Param # </span>┃<span style=\"font-weight: bold\"> Connected to           </span>┃\n",
              "┡━━━━━━━━━━━━━━━━━━━━━━━━━━━╇━━━━━━━━━━━━━━━━━━━━━━━━╇━━━━━━━━━━━━━━━━╇━━━━━━━━━━━━━━━━━━━━━━━━┩\n",
              "│ input_layer (<span style=\"color: #0087ff; text-decoration-color: #0087ff\">InputLayer</span>)  │ (<span style=\"color: #00d7ff; text-decoration-color: #00d7ff\">None</span>, <span style=\"color: #00af00; text-decoration-color: #00af00\">200</span>)            │              <span style=\"color: #00af00; text-decoration-color: #00af00\">0</span> │ -                      │\n",
              "├───────────────────────────┼────────────────────────┼────────────────┼────────────────────────┤\n",
              "│ embedding (<span style=\"color: #0087ff; text-decoration-color: #0087ff\">Embedding</span>)     │ (<span style=\"color: #00d7ff; text-decoration-color: #00d7ff\">None</span>, <span style=\"color: #00af00; text-decoration-color: #00af00\">200</span>, <span style=\"color: #00af00; text-decoration-color: #00af00\">128</span>)       │      <span style=\"color: #00af00; text-decoration-color: #00af00\">1,280,000</span> │ input_layer[<span style=\"color: #00af00; text-decoration-color: #00af00\">0</span>][<span style=\"color: #00af00; text-decoration-color: #00af00\">0</span>]      │\n",
              "├───────────────────────────┼────────────────────────┼────────────────┼────────────────────────┤\n",
              "│ conv1d (<span style=\"color: #0087ff; text-decoration-color: #0087ff\">Conv1D</span>)           │ (<span style=\"color: #00d7ff; text-decoration-color: #00d7ff\">None</span>, <span style=\"color: #00af00; text-decoration-color: #00af00\">198</span>, <span style=\"color: #00af00; text-decoration-color: #00af00\">128</span>)       │         <span style=\"color: #00af00; text-decoration-color: #00af00\">49,280</span> │ embedding[<span style=\"color: #00af00; text-decoration-color: #00af00\">0</span>][<span style=\"color: #00af00; text-decoration-color: #00af00\">0</span>]        │\n",
              "├───────────────────────────┼────────────────────────┼────────────────┼────────────────────────┤\n",
              "│ max_pooling1d             │ (<span style=\"color: #00d7ff; text-decoration-color: #00d7ff\">None</span>, <span style=\"color: #00af00; text-decoration-color: #00af00\">99</span>, <span style=\"color: #00af00; text-decoration-color: #00af00\">128</span>)        │              <span style=\"color: #00af00; text-decoration-color: #00af00\">0</span> │ conv1d[<span style=\"color: #00af00; text-decoration-color: #00af00\">0</span>][<span style=\"color: #00af00; text-decoration-color: #00af00\">0</span>]           │\n",
              "│ (<span style=\"color: #0087ff; text-decoration-color: #0087ff\">MaxPooling1D</span>)            │                        │                │                        │\n",
              "├───────────────────────────┼────────────────────────┼────────────────┼────────────────────────┤\n",
              "│ lstm (<span style=\"color: #0087ff; text-decoration-color: #0087ff\">LSTM</span>)               │ (<span style=\"color: #00d7ff; text-decoration-color: #00d7ff\">None</span>, <span style=\"color: #00af00; text-decoration-color: #00af00\">128</span>)            │        <span style=\"color: #00af00; text-decoration-color: #00af00\">131,584</span> │ embedding[<span style=\"color: #00af00; text-decoration-color: #00af00\">0</span>][<span style=\"color: #00af00; text-decoration-color: #00af00\">0</span>]        │\n",
              "├───────────────────────────┼────────────────────────┼────────────────┼────────────────────────┤\n",
              "│ flatten (<span style=\"color: #0087ff; text-decoration-color: #0087ff\">Flatten</span>)         │ (<span style=\"color: #00d7ff; text-decoration-color: #00d7ff\">None</span>, <span style=\"color: #00af00; text-decoration-color: #00af00\">12672</span>)          │              <span style=\"color: #00af00; text-decoration-color: #00af00\">0</span> │ max_pooling1d[<span style=\"color: #00af00; text-decoration-color: #00af00\">0</span>][<span style=\"color: #00af00; text-decoration-color: #00af00\">0</span>]    │\n",
              "├───────────────────────────┼────────────────────────┼────────────────┼────────────────────────┤\n",
              "│ concatenate (<span style=\"color: #0087ff; text-decoration-color: #0087ff\">Concatenate</span>) │ (<span style=\"color: #00d7ff; text-decoration-color: #00d7ff\">None</span>, <span style=\"color: #00af00; text-decoration-color: #00af00\">12800</span>)          │              <span style=\"color: #00af00; text-decoration-color: #00af00\">0</span> │ lstm[<span style=\"color: #00af00; text-decoration-color: #00af00\">0</span>][<span style=\"color: #00af00; text-decoration-color: #00af00\">0</span>],            │\n",
              "│                           │                        │                │ flatten[<span style=\"color: #00af00; text-decoration-color: #00af00\">0</span>][<span style=\"color: #00af00; text-decoration-color: #00af00\">0</span>]          │\n",
              "├───────────────────────────┼────────────────────────┼────────────────┼────────────────────────┤\n",
              "│ dropout (<span style=\"color: #0087ff; text-decoration-color: #0087ff\">Dropout</span>)         │ (<span style=\"color: #00d7ff; text-decoration-color: #00d7ff\">None</span>, <span style=\"color: #00af00; text-decoration-color: #00af00\">12800</span>)          │              <span style=\"color: #00af00; text-decoration-color: #00af00\">0</span> │ concatenate[<span style=\"color: #00af00; text-decoration-color: #00af00\">0</span>][<span style=\"color: #00af00; text-decoration-color: #00af00\">0</span>]      │\n",
              "├───────────────────────────┼────────────────────────┼────────────────┼────────────────────────┤\n",
              "│ dense (<span style=\"color: #0087ff; text-decoration-color: #0087ff\">Dense</span>)             │ (<span style=\"color: #00d7ff; text-decoration-color: #00d7ff\">None</span>, <span style=\"color: #00af00; text-decoration-color: #00af00\">64</span>)             │        <span style=\"color: #00af00; text-decoration-color: #00af00\">819,264</span> │ dropout[<span style=\"color: #00af00; text-decoration-color: #00af00\">0</span>][<span style=\"color: #00af00; text-decoration-color: #00af00\">0</span>]          │\n",
              "├───────────────────────────┼────────────────────────┼────────────────┼────────────────────────┤\n",
              "│ dense_1 (<span style=\"color: #0087ff; text-decoration-color: #0087ff\">Dense</span>)           │ (<span style=\"color: #00d7ff; text-decoration-color: #00d7ff\">None</span>, <span style=\"color: #00af00; text-decoration-color: #00af00\">1</span>)              │             <span style=\"color: #00af00; text-decoration-color: #00af00\">65</span> │ dense[<span style=\"color: #00af00; text-decoration-color: #00af00\">0</span>][<span style=\"color: #00af00; text-decoration-color: #00af00\">0</span>]            │\n",
              "└───────────────────────────┴────────────────────────┴────────────────┴────────────────────────┘\n",
              "</pre>\n"
            ]
          },
          "metadata": {}
        },
        {
          "output_type": "display_data",
          "data": {
            "text/plain": [
              "\u001b[1m Total params: \u001b[0m\u001b[38;5;34m2,280,193\u001b[0m (8.70 MB)\n"
            ],
            "text/html": [
              "<pre style=\"white-space:pre;overflow-x:auto;line-height:normal;font-family:Menlo,'DejaVu Sans Mono',consolas,'Courier New',monospace\"><span style=\"font-weight: bold\"> Total params: </span><span style=\"color: #00af00; text-decoration-color: #00af00\">2,280,193</span> (8.70 MB)\n",
              "</pre>\n"
            ]
          },
          "metadata": {}
        },
        {
          "output_type": "display_data",
          "data": {
            "text/plain": [
              "\u001b[1m Trainable params: \u001b[0m\u001b[38;5;34m2,280,193\u001b[0m (8.70 MB)\n"
            ],
            "text/html": [
              "<pre style=\"white-space:pre;overflow-x:auto;line-height:normal;font-family:Menlo,'DejaVu Sans Mono',consolas,'Courier New',monospace\"><span style=\"font-weight: bold\"> Trainable params: </span><span style=\"color: #00af00; text-decoration-color: #00af00\">2,280,193</span> (8.70 MB)\n",
              "</pre>\n"
            ]
          },
          "metadata": {}
        },
        {
          "output_type": "display_data",
          "data": {
            "text/plain": [
              "\u001b[1m Non-trainable params: \u001b[0m\u001b[38;5;34m0\u001b[0m (0.00 B)\n"
            ],
            "text/html": [
              "<pre style=\"white-space:pre;overflow-x:auto;line-height:normal;font-family:Menlo,'DejaVu Sans Mono',consolas,'Courier New',monospace\"><span style=\"font-weight: bold\"> Non-trainable params: </span><span style=\"color: #00af00; text-decoration-color: #00af00\">0</span> (0.00 B)\n",
              "</pre>\n"
            ]
          },
          "metadata": {}
        }
      ]
    },
    {
      "cell_type": "markdown",
      "source": [
        "## **Step 4: Compile and train the model**\n",
        "\n",
        "I use the Adam optimizer and binary crossentropy loss function for binary classification.\n",
        "\n",
        "The model is trained for 5 epochs."
      ],
      "metadata": {
        "id": "DhogWIXDPSr2"
      }
    },
    {
      "cell_type": "code",
      "source": [
        "# Compile the model\n",
        "model.compile(optimizer='adam', loss='binary_crossentropy', metrics=['accuracy'])\n",
        "\n",
        "print(\"Training model...\")\n",
        "\n",
        "# Define callbacks for EarlyStopping and ModelCheckpoint\n",
        "early_stopping = EarlyStopping(monitor='val_loss', patience=3, restore_best_weights=True)\n",
        "model_checkpoint = ModelCheckpoint('best_model.keras', monitor='val_loss', save_best_only=True)\n",
        "\n",
        "# Training model\n",
        "history = model.fit(\n",
        "    x_train, y_train,\n",
        "    epochs=5,\n",
        "    batch_size=128,\n",
        "    validation_data=(x_val, y_val),\n",
        "    callbacks=[early_stopping, model_checkpoint]# Prevent overfitting\n",
        ")"
      ],
      "metadata": {
        "colab": {
          "base_uri": "https://localhost:8080/"
        },
        "id": "FHnzWAO6QpA2",
        "outputId": "931d86fe-66e3-4d8b-ae39-72b8efc62b28"
      },
      "execution_count": 5,
      "outputs": [
        {
          "output_type": "stream",
          "name": "stdout",
          "text": [
            "Training model...\n",
            "Epoch 1/5\n",
            "\u001b[1m157/157\u001b[0m \u001b[32m━━━━━━━━━━━━━━━━━━━━\u001b[0m\u001b[37m\u001b[0m \u001b[1m10s\u001b[0m 30ms/step - accuracy: 0.5347 - loss: 0.6748 - val_accuracy: 0.8642 - val_loss: 0.3199\n",
            "Epoch 2/5\n",
            "\u001b[1m157/157\u001b[0m \u001b[32m━━━━━━━━━━━━━━━━━━━━\u001b[0m\u001b[37m\u001b[0m \u001b[1m5s\u001b[0m 24ms/step - accuracy: 0.8866 - loss: 0.2777 - val_accuracy: 0.8690 - val_loss: 0.3087\n",
            "Epoch 3/5\n",
            "\u001b[1m157/157\u001b[0m \u001b[32m━━━━━━━━━━━━━━━━━━━━\u001b[0m\u001b[37m\u001b[0m \u001b[1m4s\u001b[0m 27ms/step - accuracy: 0.9351 - loss: 0.1727 - val_accuracy: 0.8844 - val_loss: 0.2931\n",
            "Epoch 4/5\n",
            "\u001b[1m157/157\u001b[0m \u001b[32m━━━━━━━━━━━━━━━━━━━━\u001b[0m\u001b[37m\u001b[0m \u001b[1m4s\u001b[0m 24ms/step - accuracy: 0.9605 - loss: 0.1167 - val_accuracy: 0.8706 - val_loss: 0.3589\n",
            "Epoch 5/5\n",
            "\u001b[1m157/157\u001b[0m \u001b[32m━━━━━━━━━━━━━━━━━━━━\u001b[0m\u001b[37m\u001b[0m \u001b[1m5s\u001b[0m 23ms/step - accuracy: 0.9736 - loss: 0.0804 - val_accuracy: 0.8686 - val_loss: 0.4142\n"
          ]
        }
      ]
    },
    {
      "cell_type": "markdown",
      "source": [
        "## **Step 5: Evaluate the model**\n",
        "\n",
        "I use the test set to evaluate the model and generate a classification report"
      ],
      "metadata": {
        "id": "DWrssMhaRFTe"
      }
    },
    {
      "cell_type": "code",
      "source": [
        "y_pred = (model.predict(x_test) > 0.5).astype(\"int32\")\n",
        "print(classification_report(y_test, y_pred))\n",
        "\n",
        "# Evaluate the model on the test data\n",
        "test_loss, test_acc = model.evaluate(x_test, y_test, verbose=2)\n",
        "\n",
        "# Print the results in percentage format\n",
        "print(f\"Test Accuracy: {test_acc * 100:.2f}%\")\n",
        "print(f\"Test Loss: {test_loss * 100:.2f}%\")\n"
      ],
      "metadata": {
        "id": "HtQSQPOgRKlG",
        "outputId": "879560ba-84c0-4c74-ee15-eb7252fec32e",
        "colab": {
          "base_uri": "https://localhost:8080/"
        }
      },
      "execution_count": 6,
      "outputs": [
        {
          "output_type": "stream",
          "name": "stdout",
          "text": [
            "\u001b[1m782/782\u001b[0m \u001b[32m━━━━━━━━━━━━━━━━━━━━\u001b[0m\u001b[37m\u001b[0m \u001b[1m4s\u001b[0m 5ms/step\n",
            "              precision    recall  f1-score   support\n",
            "\n",
            "           0       0.87      0.88      0.87     12500\n",
            "           1       0.88      0.86      0.87     12500\n",
            "\n",
            "    accuracy                           0.87     25000\n",
            "   macro avg       0.87      0.87      0.87     25000\n",
            "weighted avg       0.87      0.87      0.87     25000\n",
            "\n",
            "782/782 - 3s - 4ms/step - accuracy: 0.8707 - loss: 0.3208\n",
            "Test Accuracy: 87.07%\n",
            "Test Loss: 32.08%\n"
          ]
        }
      ]
    },
    {
      "cell_type": "markdown",
      "source": [
        "## **Display prediction results**"
      ],
      "metadata": {
        "id": "3pZ1z1ffjqXo"
      }
    },
    {
      "cell_type": "code",
      "source": [
        "# Display some examples from the test dataset\n",
        "index_to_word = imdb.get_word_index()\n",
        "reverse_word_index = dict([(value, key) for (key, value) in index_to_word.items()])\n",
        "\n",
        "def decode_review(text):\n",
        "    return ' '.join([reverse_word_index.get(i - 3, '') for i in text if reverse_word_index.get(i - 3)])\n",
        "\n",
        "# Select 5 random samples to display\n",
        "import numpy as np\n",
        "sample_indices = np.random.choice(len(x_test), size=5, replace=False)\n",
        "\n",
        "for i in sample_indices:\n",
        "    review = decode_review(x_test[i])\n",
        "    print(f\"Review: {review}\")\n",
        "    print(f\"Actual Label: {'Positive' if y_test[i] == 1 else 'Negative'}\")\n",
        "    print(f\"Predicted Label: {'Positive' if y_pred[i] == 1 else 'Negative'}\")\n",
        "    print(\"-\"*80)\n"
      ],
      "metadata": {
        "id": "YF0Tnn3yjp4q",
        "outputId": "873a3557-0bc9-4fc2-ea66-48dac9c9f7ce",
        "colab": {
          "base_uri": "https://localhost:8080/"
        }
      },
      "execution_count": 7,
      "outputs": [
        {
          "output_type": "stream",
          "name": "stdout",
          "text": [
            "Review: this was a movie that at the end i thought now that was an enjoyable 2 hours i hate spending around 20 not including baby sitting for my husband and myself to have that it was ok feeling br br i think i like will smith better as a comedic actor than an action hero he was well cast in this his character was very likable as was kevin br br there were several laugh out loud scenes it's also a romantic movie so guys if you want to impress the lady in your life take her to this women will like it as much as any chick flick but i wouldn't this as one there is plenty of guy humor in it for men to enjoy i think that's one of the reasons why this movie is so perfect as a date movie it has romance and slapstick i don't usually like slapstick that much but it wasn't overdone and i can't think of any those scenes that didn't deliver laughs br br i definitely recommend this movie the first thing my husband said to me after it was over was i want to see it again\n",
            "Actual Label: Positive\n",
            "Predicted Label: Positive\n",
            "--------------------------------------------------------------------------------\n",
            "Review: years ago the feature film tried to be some kind of blockbuster in one for sure i hope no one outside will ever have to see this one perhaps if you are familiar with the original sitcom it could be interesting to watch what director made of his series i think he missed his chance and wasted time and money br br so far many director's and writers have failed to make a series concept to a movie consider inspector gadget you can see how hard this is by watching ma the result of this attempt in my opinion tastes like a never ending tv episode and not a good one it fails to deliver a plot the humor tries too hard and the directing seems very as holds true for the visual style br br so up i'd clearly not recommend this one\n",
            "Actual Label: Negative\n",
            "Predicted Label: Negative\n",
            "--------------------------------------------------------------------------------\n",
            "Review: part in the film are the lines most of the poignant scenes of the play such as the scene are so much they seem pointless replacing the knocks in the door with and horses with cars seems funny if they wanted to make a movie about power and its temptation they could have done it easily without shakespeare this seems to be a with a brain injury not a warrior brave and ambitious that wants power so much he is prepared to to kill and who gets caught up in a net of fears and despair the movie doesn't make clear what drives lady to madness it doesn't give a reason why some of the characters should fear and his terror since there is no to the throne what with no throne and all and it places in an awkward position since the of a gang is as far from as this whole movie is far from any shakespeare in conclusion we have two ideas that never quite meet making this a film that's ultimately pointless stand not upon the order of your going but go\n",
            "Actual Label: Negative\n",
            "Predicted Label: Negative\n",
            "--------------------------------------------------------------------------------\n",
            "Review: an american werewolf in london had some funny parts but this one isn't so good the computer werewolves are just awful the perspective is all off it's like seeing them through a mirror the writers step on the throat of many of their gags american boy says to girl is there a around here instead of just leaving it at that they have to have the girl sigh and respond this is paris\n",
            "Actual Label: Negative\n",
            "Predicted Label: Negative\n",
            "--------------------------------------------------------------------------------\n",
            "Review: for some viewers naturally our heroes are threatened by the weather so the sound design involving wind evokes memories of the thing br br the is an ancient worm that had been exposed to the team once inside a host it aggressive behavior this allows the paranoia aspect to take full hold and the way the script is set up we can't be too sure of who's infected and who's not this gives rise to the inevitable scene of testing this episode certainly works at portraying the way that tensions can cause in groups it even allows and to have moments where they're not sure if they can trust each other br br guest starring are a good small group of actors berkeley and steve as the scientists to and on the mission and jeff as the pilot who takes them to the camp you can also see one time jason ken as one of the ill original team members br br incidentally there's one direct link between and the thing art director murray who worked on both projects br br 8 10\n",
            "Actual Label: Positive\n",
            "Predicted Label: Positive\n",
            "--------------------------------------------------------------------------------\n"
          ]
        }
      ]
    },
    {
      "cell_type": "markdown",
      "source": [
        "## **Plot loss and accuracy**"
      ],
      "metadata": {
        "id": "i-nPGecKk7iC"
      }
    },
    {
      "cell_type": "code",
      "source": [
        "import matplotlib.pyplot as plt\n",
        "\n",
        "# Create a figure with subplots (1 row, 2 columns)\n",
        "fig, ax = plt.subplots(1, 2, figsize=(12, 5))\n",
        "\n",
        "# Loss Plot (Left)\n",
        "ax[0].plot(history.history['loss'], label='Training Loss')\n",
        "ax[0].plot(history.history['val_loss'], label='Validation Loss')\n",
        "ax[0].set_title('Loss over epochs')\n",
        "ax[0].set_xlabel('Epochs')\n",
        "ax[0].set_ylabel('Loss')\n",
        "ax[0].legend()\n",
        "\n",
        "# Accuracy Plot (Right)\n",
        "ax[1].plot(history.history['accuracy'], label='Training Accuracy')\n",
        "ax[1].plot(history.history['val_accuracy'], label='Validation Accuracy')\n",
        "ax[1].set_title('Accuracy over epochs')\n",
        "ax[1].set_xlabel('Epochs')\n",
        "ax[1].set_ylabel('Accuracy')\n",
        "ax[1].legend()\n",
        "\n",
        "# Adjust layout and show the figure\n",
        "plt.tight_layout()\n",
        "plt.show()\n"
      ],
      "metadata": {
        "id": "I1BbxJWQkTbE",
        "outputId": "8b79f246-202c-4e43-8ffc-4820bc806fb8",
        "colab": {
          "base_uri": "https://localhost:8080/",
          "height": 507
        }
      },
      "execution_count": 8,
      "outputs": [
        {
          "output_type": "display_data",
          "data": {
            "text/plain": [
              "<Figure size 1200x500 with 2 Axes>"
            ],
            "image/png": "[encoded data removed]"
          },
          "metadata": {}
        }
      ]
    },
    {
      "cell_type": "markdown",
      "source": [
        "**Observations:**\n",
        "\n",
        "**1. Loss over Epochs (Left Chart):**\n",
        "\n",
        "- ***The training loss*** decreases steadily over epochs, showing that the model is learning the training data well.\n",
        "\n",
        "- ***The validation loss***, however, increases after the first epoch. This is a clear indication of overfitting—the model performs well on the training data but fails to generalize to unseen data.\n",
        "\n",
        "**2. Accuracy over Epochs (Right Chart):**\n",
        "\n",
        "- ***The training accuracy*** increases consistently over epochs, aligning with the reduction in training loss.\n",
        "\n",
        "- ***The validation accuracy*** plateaus after the first epoch and slightly decreases in subsequent epochs, further confirming that the model struggles to generalize to the validation set.\n"
      ],
      "metadata": {
        "id": "2WnNZF7nJG12"
      }
    },
    {
      "cell_type": "markdown",
      "source": [
        "## **Testing with custom data**\n",
        "\n",
        "In this section, we test the model with custom reviews that are not part of the dataset. The goal is to evaluate how the model performs on unseen data and analyze its predictions. Below are the steps performed:\n",
        "\n",
        "### 1. Define custom reviews\n",
        "- A list of reviews is created manually. These reviews include both positive and negative sentiments to check how well the model generalizes to new data.\n",
        "- Examples include:\n",
        "  - Highly positive reviews (e.g., *\\\"The movie was absolutely fantastic with a brilliant storyline.\"*).\n",
        "  - Strongly negative reviews (e.g., *\\\"I hated this film; it was a complete waste of time.\"*).\n",
        "  - Neutral or mixed reviews (e.g., *\\\"The plot was okay, but the characters were not very compelling.\"*).\n",
        "\n",
        "### 2. Preprocess reviews\n",
        "- The reviews are tokenized into word indices based on the IMDb vocabulary.\n",
        "- Words not found in the vocabulary are replaced with a special token.\n",
        "- The tokenized reviews are then padded to match the input length expected by the model (e.g., 200 tokens).\n",
        "\n",
        "### 3. Predict sentiment\n",
        "- The processed reviews are fed into the trained model for predictions.\n",
        "- The model outputs:\n",
        "  - A **confidence score**: How confident the model is in its prediction.\n",
        "  - A **sentiment label**: Either *Positive* or *Negative* based on the confidence score.\n",
        "\n",
        "### 4. Display results\n",
        "- Each review is displayed alongside:\n",
        "  - Its text content.\n",
        "  - The predicted sentiment (*Positive* or *Negative*).\n",
        "  - The confidence score (a value between 0 and 1).\n",
        "\n",
        "### Example output\n",
        "```text\n",
        "Review: The movie was absolutely fantastic with a brilliant storyline.\n",
        "Predicted Sentiment: Positive (Confidence: 0.95)\n",
        "--------------------------------------------------------------------------------\n",
        "Review: I hated this film; it was a complete waste of time.\n",
        "Predicted Sentiment: Negative (Confidence: 0.89)\n",
        "\n"
      ],
      "metadata": {
        "id": "xGNwYCvvsDWT"
      }
    },
    {
      "cell_type": "code",
      "source": [
        "# Function to preprocess and predict sentiment for custom reviews\n",
        "def preprocess_and_predict(review, tokenizer, maxlen, model):\n",
        "    # Tokenize the input review\n",
        "    tokens = [tokenizer.get(word, 2) + 3 for word in review.split()]\n",
        "    tokens = pad_sequences([tokens], maxlen=maxlen, padding='post')\n",
        "\n",
        "    # Predict sentiment\n",
        "    prediction = model.predict(tokens)[0][0]\n",
        "    sentiment = \"Positive\" if prediction > 0.5 else \"Negative\"\n",
        "\n",
        "    # Display results\n",
        "    print(f\"Review: {review}\")\n",
        "    print(f\"Sentiment: {sentiment} (Confidence: {prediction:.2f})\")\n",
        "    print(\"-\"*80)\n",
        "\n",
        "    return sentiment, prediction"
      ],
      "metadata": {
        "id": "gLY90Z-KueIp"
      },
      "execution_count": 9,
      "outputs": []
    },
    {
      "cell_type": "code",
      "source": [
        "# Example custom reviews for testing\n",
        "custom_revews = [\n",
        "    \"The movie was absolutely fantastic with a brilliant storyline.\",\n",
        "    \"I hated this film; it was a complete waste of time.\",\n",
        "    \"The plot was okay, but the characters were not very compelling.\",\n",
        "    \"What an amazing performance by the lead actor!\",\n",
        "    \"This movie was just boring. I fell asleep halfway through.\"\n",
        "]\n",
        "\n",
        "# Create a tokenizer mapping from IMDb dataset (like `index_to_word`)\n",
        "index_to_word = imdb.get_word_index()\n",
        "word_to_index = {key: value for key, value in index_to_word.items()}\n",
        "\n",
        "# Test custom reviews\n",
        "for review in custom_revews:\n",
        "    preprocess_and_predict(review, word_to_index, maxlen, model)"
      ],
      "metadata": {
        "id": "DT7Yrhmlveeb",
        "outputId": "ea7dfd07-97b7-4890-cb2f-37de2704a8f4",
        "colab": {
          "base_uri": "https://localhost:8080/"
        }
      },
      "execution_count": 10,
      "outputs": [
        {
          "output_type": "stream",
          "name": "stdout",
          "text": [
            "\u001b[1m1/1\u001b[0m \u001b[32m━━━━━━━━━━━━━━━━━━━━\u001b[0m\u001b[37m\u001b[0m \u001b[1m0s\u001b[0m 58ms/step\n",
            "Review: The movie was absolutely fantastic with a brilliant storyline.\n",
            "Sentiment: Positive (Confidence: 0.70)\n",
            "--------------------------------------------------------------------------------\n",
            "\u001b[1m1/1\u001b[0m \u001b[32m━━━━━━━━━━━━━━━━━━━━\u001b[0m\u001b[37m\u001b[0m \u001b[1m0s\u001b[0m 18ms/step\n",
            "Review: I hated this film; it was a complete waste of time.\n",
            "Sentiment: Negative (Confidence: 0.19)\n",
            "--------------------------------------------------------------------------------\n",
            "\u001b[1m1/1\u001b[0m \u001b[32m━━━━━━━━━━━━━━━━━━━━\u001b[0m\u001b[37m\u001b[0m \u001b[1m0s\u001b[0m 19ms/step\n",
            "Review: The plot was okay, but the characters were not very compelling.\n",
            "Sentiment: Negative (Confidence: 0.43)\n",
            "--------------------------------------------------------------------------------\n",
            "\u001b[1m1/1\u001b[0m \u001b[32m━━━━━━━━━━━━━━━━━━━━\u001b[0m\u001b[37m\u001b[0m \u001b[1m0s\u001b[0m 18ms/step\n",
            "Review: What an amazing performance by the lead actor!\n",
            "Sentiment: Positive (Confidence: 0.62)\n",
            "--------------------------------------------------------------------------------\n",
            "\u001b[1m1/1\u001b[0m \u001b[32m━━━━━━━━━━━━━━━━━━━━\u001b[0m\u001b[37m\u001b[0m \u001b[1m0s\u001b[0m 18ms/step\n",
            "Review: This movie was just boring. I fell asleep halfway through.\n",
            "Sentiment: Negative (Confidence: 0.29)\n",
            "--------------------------------------------------------------------------------\n"
          ]
        }
      ]
    }
  ]
}